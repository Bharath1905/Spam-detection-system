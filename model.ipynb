{
 "cells": [
  {
   "cell_type": "code",
   "execution_count": 1,
   "metadata": {},
   "outputs": [],
   "source": [
    "import numpy as np\n",
    "import pandas as pd\n",
    "\n",
    "import matplotlib.pyplot as plt\n",
    "import seaborn as sns\n",
    "\n",
    "from sklearn.model_selection import train_test_split\n",
    "from sklearn.metrics import confusion_matrix, classification_report\n",
    "\n",
    "import tensorflow as tf\n",
    "import warnings\n",
    "warnings.filterwarnings('ignore')"
   ]
  },
  {
   "cell_type": "code",
   "execution_count": 2,
   "metadata": {},
   "outputs": [],
   "source": [
    "data = pd.read_csv('spam.csv')"
   ]
  },
  {
   "cell_type": "code",
   "execution_count": 3,
   "metadata": {},
   "outputs": [
    {
     "data": {
      "text/html": [
       "<div>\n",
       "<style scoped>\n",
       "    .dataframe tbody tr th:only-of-type {\n",
       "        vertical-align: middle;\n",
       "    }\n",
       "\n",
       "    .dataframe tbody tr th {\n",
       "        vertical-align: top;\n",
       "    }\n",
       "\n",
       "    .dataframe thead th {\n",
       "        text-align: right;\n",
       "    }\n",
       "</style>\n",
       "<table border=\"1\" class=\"dataframe\">\n",
       "  <thead>\n",
       "    <tr style=\"text-align: right;\">\n",
       "      <th></th>\n",
       "      <th>Category</th>\n",
       "      <th>Message</th>\n",
       "    </tr>\n",
       "  </thead>\n",
       "  <tbody>\n",
       "    <tr>\n",
       "      <th>0</th>\n",
       "      <td>ham</td>\n",
       "      <td>Go until jurong point, crazy.. Available only ...</td>\n",
       "    </tr>\n",
       "    <tr>\n",
       "      <th>1</th>\n",
       "      <td>ham</td>\n",
       "      <td>Ok lar... Joking wif u oni...</td>\n",
       "    </tr>\n",
       "    <tr>\n",
       "      <th>2</th>\n",
       "      <td>spam</td>\n",
       "      <td>Free entry in 2 a wkly comp to win FA Cup fina...</td>\n",
       "    </tr>\n",
       "    <tr>\n",
       "      <th>3</th>\n",
       "      <td>ham</td>\n",
       "      <td>U dun say so early hor... U c already then say...</td>\n",
       "    </tr>\n",
       "    <tr>\n",
       "      <th>4</th>\n",
       "      <td>ham</td>\n",
       "      <td>Nah I don't think he goes to usf, he lives aro...</td>\n",
       "    </tr>\n",
       "  </tbody>\n",
       "</table>\n",
       "</div>"
      ],
      "text/plain": [
       "  Category                                            Message\n",
       "0      ham  Go until jurong point, crazy.. Available only ...\n",
       "1      ham                      Ok lar... Joking wif u oni...\n",
       "2     spam  Free entry in 2 a wkly comp to win FA Cup fina...\n",
       "3      ham  U dun say so early hor... U c already then say...\n",
       "4      ham  Nah I don't think he goes to usf, he lives aro..."
      ]
     },
     "execution_count": 3,
     "metadata": {},
     "output_type": "execute_result"
    }
   ],
   "source": [
    "data.head()"
   ]
  },
  {
   "cell_type": "markdown",
   "metadata": {},
   "source": []
  },
  {
   "cell_type": "code",
   "execution_count": 4,
   "metadata": {},
   "outputs": [
    {
     "data": {
      "text/plain": [
       "Category\n",
       "ham     4825\n",
       "spam     747\n",
       "Name: count, dtype: int64"
      ]
     },
     "execution_count": 4,
     "metadata": {},
     "output_type": "execute_result"
    }
   ],
   "source": [
    "data['Category'].value_counts()"
   ]
  },
  {
   "cell_type": "code",
   "execution_count": 5,
   "metadata": {},
   "outputs": [
    {
     "data": {
      "text/plain": [
       "Category    0\n",
       "Message     0\n",
       "dtype: int64"
      ]
     },
     "execution_count": 5,
     "metadata": {},
     "output_type": "execute_result"
    }
   ],
   "source": [
    "data.isna().sum()"
   ]
  },
  {
   "cell_type": "code",
   "execution_count": 6,
   "metadata": {},
   "outputs": [],
   "source": [
    "def get_seq(texts, tokenizer, train = True, max_seq_length = None):\n",
    "    seq = tokenizer.texts_to_sequences(texts)\n",
    "    if train == True:\n",
    "        max_seq_length = np.max(list(map(len, seq)))\n",
    "    seq = tf.keras.preprocessing.sequence.pad_sequences(seq, maxlen = max_seq_length, padding = 'post')\n",
    "    return seq"
   ]
  },
  {
   "cell_type": "code",
   "execution_count": 7,
   "metadata": {},
   "outputs": [],
   "source": [
    "def preprocessing(df):\n",
    "    df = df.copy()\n",
    "    df['Category'] = df['Category'].replace({\"ham\" : 0, \"spam\" : 1})\n",
    "    X = df['Message']\n",
    "    Y = df['Category']\n",
    "    x_train, x_test, y_train, y_test = train_test_split(X, Y, test_size = 0.30, shuffle = True, random_state = 1)\n",
    "    tokenizer = tf.keras.preprocessing.text.Tokenizer()\n",
    "    tokenizer.fit_on_texts(x_train)\n",
    "    print('Vocab Length : ' , len(tokenizer.word_index )+1)\n",
    "    x_train = get_seq(texts = x_train, tokenizer = tokenizer, train = True)\n",
    "    x_test = get_seq(texts = x_test, tokenizer = tokenizer, train = False, max_seq_length = x_train.shape[1])\n",
    "    print('Sequence Length', x_train.shape[1])\n",
    "    return x_train, x_test, y_train, y_test"
   ]
  },
  {
   "cell_type": "code",
   "execution_count": 8,
   "metadata": {},
   "outputs": [
    {
     "name": "stdout",
     "output_type": "stream",
     "text": [
      "Vocab Length :  7383\n",
      "Sequence Length 189\n"
     ]
    },
    {
     "data": {
      "text/plain": [
       "array([[  53,   21,   13, ...,    0,    0,    0],\n",
       "       [ 918,    5, 1123, ...,    0,    0,    0],\n",
       "       [1124,   58,   42, ...,    0,    0,    0],\n",
       "       ...,\n",
       "       [7377,    6, 7378, ...,    0,    0,    0],\n",
       "       [  68,  167,  222, ...,    0,    0,    0],\n",
       "       [ 104,  104,  206, ...,    0,    0,    0]], dtype=int32)"
      ]
     },
     "execution_count": 8,
     "metadata": {},
     "output_type": "execute_result"
    }
   ],
   "source": [
    "x_train, x_test, y_train, y_test = preprocessing(data)\n",
    "x_train"
   ]
  },
  {
   "cell_type": "code",
   "execution_count": 9,
   "metadata": {},
   "outputs": [
    {
     "name": "stdout",
     "output_type": "stream",
     "text": [
      "Model: \"model\"\n",
      "_________________________________________________________________\n",
      " Layer (type)                Output Shape              Param #   \n",
      "=================================================================\n",
      " input_1 (InputLayer)        [(None, 189)]             0         \n",
      "                                                                 \n",
      " embedding (Embedding)       (None, 189, 250)          1845750   \n",
      "                                                                 \n",
      " flatten (Flatten)           (None, 47250)             0         \n",
      "                                                                 \n",
      " dense (Dense)               (None, 128)               6048128   \n",
      "                                                                 \n",
      " dense_1 (Dense)             (None, 128)               16512     \n",
      "                                                                 \n",
      " dense_2 (Dense)             (None, 1)                 129       \n",
      "                                                                 \n",
      "=================================================================\n",
      "Total params: 7910519 (30.18 MB)\n",
      "Trainable params: 7910519 (30.18 MB)\n",
      "Non-trainable params: 0 (0.00 Byte)\n",
      "_________________________________________________________________\n",
      "None\n"
     ]
    }
   ],
   "source": [
    "inputs = tf.keras.Input(shape = (189, ))\n",
    "x = tf.keras.layers.Embedding(\n",
    "    input_dim = 7383,\n",
    "    output_dim = 250\n",
    ")(inputs)\n",
    "x = tf.keras.layers.Flatten()(x)\n",
    "x = tf.keras.layers.Dense(128, activation = 'relu')(x)\n",
    "x = tf.keras.layers.Dense(128, activation = 'relu')(x)\n",
    "outputs = tf.keras.layers.Dense(1, activation = 'sigmoid')(x)\n",
    "model = tf.keras.Model(inputs = inputs, outputs = outputs)\n",
    "model.compile(\n",
    "    optimizer = 'adam',\n",
    "    loss = 'binary_crossentropy',\n",
    "    metrics = [\n",
    "        \"accuracy\",\n",
    "        tf.keras.metrics.AUC(name = 'auc')\n",
    "    ]\n",
    ")\n",
    "print(model.summary())"
   ]
  },
  {
   "cell_type": "code",
   "execution_count": 12,
   "metadata": {},
   "outputs": [
    {
     "name": "stdout",
     "output_type": "stream",
     "text": [
      "Epoch 1/100\n",
      "98/98 [==============================] - 3s 33ms/step - loss: 0.0043 - accuracy: 0.9994 - auc: 0.9987 - val_loss: 0.0971 - val_accuracy: 0.9782 - val_auc: 0.9799\n",
      "Epoch 2/100\n",
      "98/98 [==============================] - 3s 31ms/step - loss: 0.0026 - accuracy: 0.9994 - auc: 1.0000 - val_loss: 0.0859 - val_accuracy: 0.9859 - val_auc: 0.9804\n",
      "Epoch 3/100\n",
      "98/98 [==============================] - 3s 27ms/step - loss: 8.5557e-05 - accuracy: 1.0000 - auc: 1.0000 - val_loss: 0.0751 - val_accuracy: 0.9872 - val_auc: 0.9837\n",
      "Epoch 4/100\n",
      "98/98 [==============================] - 3s 29ms/step - loss: 1.3165e-04 - accuracy: 1.0000 - auc: 1.0000 - val_loss: 0.0813 - val_accuracy: 0.9808 - val_auc: 0.9830\n",
      "Epoch 5/100\n",
      "98/98 [==============================] - 3s 32ms/step - loss: 4.7656e-05 - accuracy: 1.0000 - auc: 1.0000 - val_loss: 0.1067 - val_accuracy: 0.9833 - val_auc: 0.9718\n",
      "Epoch 6/100\n",
      "98/98 [==============================] - 3s 31ms/step - loss: 1.3729e-05 - accuracy: 1.0000 - auc: 1.0000 - val_loss: 0.1010 - val_accuracy: 0.9833 - val_auc: 0.9806\n"
     ]
    }
   ],
   "source": [
    "history = model.fit(\n",
    "    x_train,\n",
    "    y_train,\n",
    "    validation_split = 0.2,\n",
    "    batch_size = 32,\n",
    "    epochs = 100,\n",
    "    callbacks = [\n",
    "        tf.keras.callbacks.EarlyStopping(\n",
    "        monitor = 'val_loss',\n",
    "        patience = 3,\n",
    "        restore_best_weights = True)\n",
    "    ]\n",
    ")"
   ]
  },
  {
   "cell_type": "code",
   "execution_count": 16,
   "metadata": {},
   "outputs": [],
   "source": [
    "model.save(\"spam_model.h5\")"
   ]
  },
  {
   "cell_type": "code",
   "execution_count": 13,
   "metadata": {},
   "outputs": [
    {
     "name": "stdout",
     "output_type": "stream",
     "text": [
      "Accuracy : 98.9234%\n",
      "AUC : 0.983\n"
     ]
    }
   ],
   "source": [
    "results = model.evaluate(x_test, y_test, verbose = 0)\n",
    "print(f'Accuracy : {round(results[1]*100, 4)}%')\n",
    "print(f'AUC : {round(results[2],3)}')"
   ]
  },
  {
   "cell_type": "code",
   "execution_count": 15,
   "metadata": {},
   "outputs": [
    {
     "name": "stdout",
     "output_type": "stream",
     "text": [
      "53/53 [==============================] - 0s 4ms/step\n"
     ]
    },
    {
     "data": {
      "image/png": "[encoded data removed]",
      "text/plain": [
       "<Figure size 600x600 with 1 Axes>"
      ]
     },
     "metadata": {},
     "output_type": "display_data"
    },
    {
     "name": "stdout",
     "output_type": "stream",
     "text": [
      "Classification Report ------------------->\n",
      "              precision    recall  f1-score   support\n",
      "\n",
      "         Ham       0.99      1.00      0.99      1442\n",
      "        Spam       0.98      0.94      0.96       230\n",
      "\n",
      "    accuracy                           0.99      1672\n",
      "   macro avg       0.98      0.97      0.98      1672\n",
      "weighted avg       0.99      0.99      0.99      1672\n",
      "\n"
     ]
    }
   ],
   "source": [
    "y_pred = np.squeeze(model.predict(x_test) >= 0.5).astype(int)  # or np.int32 / np.int64\n",
    "cm = confusion_matrix(y_test, y_pred, labels=[0, 1])\n",
    "clr = classification_report(y_test, y_pred, labels=[0, 1], target_names=['Ham', \"Spam\"])\n",
    "plt.figure(figsize=(6, 6))\n",
    "sns.heatmap(cm, annot=True, fmt='g', cbar=False)\n",
    "plt.xticks(ticks=[0.5, 1.5], labels=['Ham', \"Spam\"])\n",
    "plt.yticks(ticks=[0.5, 1.5], labels=['Ham', \"Spam\"])\n",
    "plt.xlabel('Predicted')\n",
    "plt.ylabel('Actual')\n",
    "plt.show()\n",
    "print(f'Classification Report ------------------->\\n{clr}')\n"
   ]
  }
 ],
 "metadata": {
  "kernelspec": {
   "display_name": "Python 3",
   "language": "python",
   "name": "python3"
  },
  "language_info": {
   "codemirror_mode": {
    "name": "ipython",
    "version": 3
   },
   "file_extension": ".py",
   "mimetype": "text/x-python",
   "name": "python",
   "nbconvert_exporter": "python",
   "pygments_lexer": "ipython3",
   "version": "3.11.10"
  }
 },
 "nbformat": 4,
 "nbformat_minor": 2
}
